{
 "cells": [
  {
   "cell_type": "markdown",
   "id": "21525829-7198-4a01-a371-1ab35f7faef5",
   "metadata": {},
   "source": [
    "Q1. Which function is used to open a file? What are the different modes of opening a file? Explain each mode\n",
    "of file opening."
   ]
  },
  {
   "cell_type": "markdown",
   "id": "2790ff0e-78cd-4103-972b-5aa2388448b5",
   "metadata": {},
   "source": [
    "open() function is used to open a file."
   ]
  },
  {
   "cell_type": "markdown",
   "id": "2c59f716-1d6c-4c89-a91f-85eec594898f",
   "metadata": {},
   "source": [
    "Modes are :\n",
    "read(r): it is default mode in file function,used to read a file.\n",
    "write(w): it is used write a file.\n",
    "append(a): it is used to add data to file.\n",
    "binary(b): it is used when you want to read or write binary data.\n",
    "exclusive creation(x): it is used when you want to create a new file and fail if it already exists."
   ]
  },
  {
   "cell_type": "markdown",
   "id": "02259b97-155a-49a9-8638-12258f450fcc",
   "metadata": {},
   "source": [
    "Q2. Why close() function is used? Why is it important to close a file?"
   ]
  },
  {
   "cell_type": "markdown",
   "id": "ac6ff4e8-df27-4f31-8aa1-cf85392aceba",
   "metadata": {},
   "source": [
    "close() function  is used to close the file after it is been opened using the open() function.\n",
    "It is important to close the file because it deletes the unwriten information and after closing the file we cannot write in the file."
   ]
  },
  {
   "cell_type": "markdown",
   "id": "ae5819a4-7619-4b71-adc1-069f90c62726",
   "metadata": {},
   "source": [
    "Q3. Write a python program to create a text file. Write ‘I want to become a Data Scientist’ in that file. Then\n",
    "close the file. Open this file and read the content of the file."
   ]
  },
  {
   "cell_type": "code",
   "execution_count": 36,
   "id": "e1532f68-b329-43b4-aba8-4af24ca5daad",
   "metadata": {},
   "outputs": [],
   "source": [
    "f = open(\"viren.txt\", \"w\")\n",
    "f.write(\"I want to become a Data Scientist \")\n",
    "f.close()"
   ]
  },
  {
   "cell_type": "code",
   "execution_count": 37,
   "id": "64f79f8a-631a-40db-8917-2ee9c3d7ecd3",
   "metadata": {},
   "outputs": [],
   "source": [
    "info = open(\"viren.txt\",\"r\")"
   ]
  },
  {
   "cell_type": "code",
   "execution_count": 38,
   "id": "739f9ab4-7c1b-4027-9fc8-95f67a68079e",
   "metadata": {},
   "outputs": [
    {
     "data": {
      "text/plain": [
       "'I want to become a Data Scientist '"
      ]
     },
     "execution_count": 38,
     "metadata": {},
     "output_type": "execute_result"
    }
   ],
   "source": [
    "info.read()"
   ]
  },
  {
   "cell_type": "markdown",
   "id": "9191dcf4-04b1-4008-8798-364ae6906170",
   "metadata": {},
   "source": [
    "Q4. Explain the following with python code: read(), readline() and readlines()."
   ]
  },
  {
   "cell_type": "raw",
   "id": "d79037c2-9cb8-4e3b-89d6-b97d17839b1a",
   "metadata": {},
   "source": [
    "read() reads the entire file and returns a string."
   ]
  },
  {
   "cell_type": "code",
   "execution_count": 39,
   "id": "8a0bd8d7-faea-403b-8716-a5627317e2ec",
   "metadata": {},
   "outputs": [
    {
     "data": {
      "text/plain": [
       "'I want to become a Data Scientist '"
      ]
     },
     "execution_count": 39,
     "metadata": {},
     "output_type": "execute_result"
    }
   ],
   "source": [
    "#example of read()\n",
    "f = open(\"viren.txt\",\"r\")\n",
    "f.read()"
   ]
  },
  {
   "cell_type": "code",
   "execution_count": 40,
   "id": "2ef4d1c9-4c42-463c-9a0d-37c46e45540c",
   "metadata": {},
   "outputs": [],
   "source": [
    "f = open(\"viren.txt\",\"a\")\n",
    "f.write(\"I want to become best in data science.\")\n",
    "f.close()"
   ]
  },
  {
   "cell_type": "raw",
   "id": "8360de3d-76fa-4d00-97f9-a8fe3ec36393",
   "metadata": {},
   "source": [
    "readline() reads just one line from a file."
   ]
  },
  {
   "cell_type": "code",
   "execution_count": 44,
   "id": "d9d13861-90d8-4915-ab9c-cbe313a9522b",
   "metadata": {},
   "outputs": [
    {
     "data": {
      "text/plain": [
       "'I want to become a Data Scientist I want to become best in data science.'"
      ]
     },
     "execution_count": 44,
     "metadata": {},
     "output_type": "execute_result"
    }
   ],
   "source": [
    "#example of readline()\n",
    "f = open(\"viren.txt\",\"r\")\n",
    "f.readline()"
   ]
  },
  {
   "cell_type": "raw",
   "id": "fe7bcdef-71a5-47bf-a6bb-c085f605c023",
   "metadata": {},
   "source": [
    "readlines() returns a list of strings representing the lines of the file."
   ]
  },
  {
   "cell_type": "raw",
   "id": "5c817ea2-7f27-4553-b8fa-8f25a1cae63a",
   "metadata": {},
   "source": [
    "#example of readlines()\n",
    "f = open(\"viren.txt\",\"r\")\n",
    "f.readlines()"
   ]
  },
  {
   "cell_type": "markdown",
   "id": "0b7c7f81-da8b-418f-8bdd-cc477f46c6c3",
   "metadata": {},
   "source": [
    "Q5. Explain why with statement is used with open(). What is the advantage of using with statement and\n",
    "open() together?"
   ]
  },
  {
   "cell_type": "raw",
   "id": "22946e6e-bb6d-44f9-a4b4-35c84865144b",
   "metadata": {},
   "source": [
    "When we use with statement with the open() it automatically closes the file.\n",
    "The advantage of using with statement with open() is it makes yoour code more readable  ,ensure your file is closed which reduces your chances to get an error"
   ]
  },
  {
   "cell_type": "markdown",
   "id": "f60fb214-aeae-4c73-a937-38bc03df0183",
   "metadata": {},
   "source": [
    "Q6. Explain the write() and writelines() functions. Give a suitable example."
   ]
  },
  {
   "cell_type": "raw",
   "id": "033726ef-aac2-417d-91c0-b8266f17f07d",
   "metadata": {},
   "source": [
    "write() is used to write in a file."
   ]
  },
  {
   "cell_type": "code",
   "execution_count": 46,
   "id": "a7d54e9a-8e1a-4a8f-be74-429997d9167b",
   "metadata": {},
   "outputs": [
    {
     "data": {
      "text/plain": [
       "11"
      ]
     },
     "execution_count": 46,
     "metadata": {},
     "output_type": "execute_result"
    }
   ],
   "source": [
    "#example of write.\n",
    "f = open(\"vir.txt\",\"w\")\n",
    "f.write(\"Hello there\")"
   ]
  },
  {
   "cell_type": "raw",
   "id": "541ae0fe-cbce-47d1-8b7c-0a6f38856c2a",
   "metadata": {},
   "source": [
    "writelines() method writes the items of a list to the file."
   ]
  },
  {
   "cell_type": "code",
   "execution_count": 49,
   "id": "025ada08-9b85-4d19-9f15-06b9bd438951",
   "metadata": {},
   "outputs": [],
   "source": [
    "#example of writelines\n",
    "f.writelines([\"I want to become a Data Scientist.\", \"Master in my field\"])"
   ]
  }
 ],
 "metadata": {
  "kernelspec": {
   "display_name": "Python 3 (ipykernel)",
   "language": "python",
   "name": "python3"
  },
  "language_info": {
   "codemirror_mode": {
    "name": "ipython",
    "version": 3
   },
   "file_extension": ".py",
   "mimetype": "text/x-python",
   "name": "python",
   "nbconvert_exporter": "python",
   "pygments_lexer": "ipython3",
   "version": "3.10.8"
  }
 },
 "nbformat": 4,
 "nbformat_minor": 5
}
